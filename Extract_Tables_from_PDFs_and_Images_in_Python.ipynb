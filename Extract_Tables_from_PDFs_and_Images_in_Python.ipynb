{
  "nbformat": 4,
  "nbformat_minor": 0,
  "metadata": {
    "colab": {
      "name": "Extract Tables from PDFs and Images in Python",
      "provenance": [],
      "include_colab_link": true
    },
    "kernelspec": {
      "name": "python3",
      "display_name": "Python 3"
    },
    "language_info": {
      "name": "python"
    }
  },
  "cells": [
    {
      "cell_type": "markdown",
      "metadata": {
        "id": "view-in-github",
        "colab_type": "text"
      },
      "source": [
        "<a href=\"https://colab.research.google.com/github/Arun97-creator/ESG/blob/main/Extract_Tables_from_PDFs_and_Images_in_Python.ipynb\" target=\"_parent\"><img src=\"https://colab.research.google.com/assets/colab-badge.svg\" alt=\"Open In Colab\"/></a>"
      ]
    },
    {
      "cell_type": "code",
      "metadata": {
        "id": "N4ntrd_xGMoY"
      },
      "source": [
        "!pip install \"camelot-py[cv]\" -q"
      ],
      "execution_count": 16,
      "outputs": []
    },
    {
      "cell_type": "code",
      "metadata": {
        "colab": {
          "base_uri": "https://localhost:8080/"
        },
        "id": "qCxyThFDMJI6",
        "outputId": "65740065-7e5e-4ffa-c4ef-a2b02947fafe"
      },
      "source": [
        "!apt-get install ghostscript"
      ],
      "execution_count": null,
      "outputs": [
        {
          "output_type": "stream",
          "text": [
            "Reading package lists... Done\n",
            "Building dependency tree       \n",
            "Reading state information... Done\n",
            "ghostscript is already the newest version (9.26~dfsg+0-0ubuntu0.18.04.14).\n",
            "0 upgraded, 0 newly installed, 0 to remove and 39 not upgraded.\n"
          ],
          "name": "stdout"
        }
      ]
    },
    {
      "cell_type": "code",
      "metadata": {
        "id": "EC-AUjWsGSLy"
      },
      "source": [
        "import camelot as cam"
      ],
      "execution_count": null,
      "outputs": []
    },
    {
      "cell_type": "code",
      "metadata": {
        "id": "eWF3m00SGgGB"
      },
      "source": [
        "#source: https://www.southalabama.edu/mathstat/personal_pages/mulekar/st550/Krishnakumar.pdf\n",
        "table = cam.read_pdf(\"/content/Recommended List of Institutions_GATI.pdf\", pages = '2', flavor = 'stream')"
      ],
      "execution_count": 21,
      "outputs": []
    },
    {
      "cell_type": "code",
      "metadata": {
        "colab": {
          "base_uri": "https://localhost:8080/",
          "height": 607
        },
        "id": "kP3Ddn9vJ449",
        "outputId": "c4319679-e366-40dc-efa0-96e8d8379a9d"
      },
      "source": [
        "table[0].df"
      ],
      "execution_count": 22,
      "outputs": [
        {
          "output_type": "execute_result",
          "data": {
            "text/html": [
              "<div>\n",
              "<style scoped>\n",
              "    .dataframe tbody tr th:only-of-type {\n",
              "        vertical-align: middle;\n",
              "    }\n",
              "\n",
              "    .dataframe tbody tr th {\n",
              "        vertical-align: top;\n",
              "    }\n",
              "\n",
              "    .dataframe thead th {\n",
              "        text-align: right;\n",
              "    }\n",
              "</style>\n",
              "<table border=\"1\" class=\"dataframe\">\n",
              "  <thead>\n",
              "    <tr style=\"text-align: right;\">\n",
              "      <th></th>\n",
              "      <th>0</th>\n",
              "      <th>1</th>\n",
              "      <th>2</th>\n",
              "      <th>3</th>\n",
              "    </tr>\n",
              "  </thead>\n",
              "  <tbody>\n",
              "    <tr>\n",
              "      <th>0</th>\n",
              "      <td>19.</td>\n",
              "      <td></td>\n",
              "      <td>ICAR National Dairy Research Institute,</td>\n",
              "      <td>Haryana</td>\n",
              "    </tr>\n",
              "    <tr>\n",
              "      <th>1</th>\n",
              "      <td></td>\n",
              "      <td></td>\n",
              "      <td>Karnal</td>\n",
              "      <td></td>\n",
              "    </tr>\n",
              "    <tr>\n",
              "      <th>2</th>\n",
              "      <td>20.</td>\n",
              "      <td></td>\n",
              "      <td>ICAR Indian Veterinary Research</td>\n",
              "      <td>Uttar Pradesh</td>\n",
              "    </tr>\n",
              "    <tr>\n",
              "      <th>3</th>\n",
              "      <td></td>\n",
              "      <td></td>\n",
              "      <td>Institute</td>\n",
              "      <td></td>\n",
              "    </tr>\n",
              "    <tr>\n",
              "      <th>4</th>\n",
              "      <td>21.</td>\n",
              "      <td>Medical</td>\n",
              "      <td>All Indian Institute of Medical Sciences,</td>\n",
              "      <td>Madhya Pradesh</td>\n",
              "    </tr>\n",
              "    <tr>\n",
              "      <th>5</th>\n",
              "      <td></td>\n",
              "      <td>Institutes</td>\n",
              "      <td>Bhopal</td>\n",
              "      <td></td>\n",
              "    </tr>\n",
              "    <tr>\n",
              "      <th>6</th>\n",
              "      <td>22.</td>\n",
              "      <td>Central</td>\n",
              "      <td>Indian Institute of Science, Bengaluru</td>\n",
              "      <td>Karnataka</td>\n",
              "    </tr>\n",
              "    <tr>\n",
              "      <th>7</th>\n",
              "      <td>23.</td>\n",
              "      <td>Universities</td>\n",
              "      <td>University of Delhi, New Delhi</td>\n",
              "      <td>Delhi</td>\n",
              "    </tr>\n",
              "    <tr>\n",
              "      <th>8</th>\n",
              "      <td>24.</td>\n",
              "      <td></td>\n",
              "      <td>Jamia Millia Islamia, New Delhi</td>\n",
              "      <td>Delhi</td>\n",
              "    </tr>\n",
              "    <tr>\n",
              "      <th>9</th>\n",
              "      <td>25.</td>\n",
              "      <td></td>\n",
              "      <td>Banaras Hindu University, Varanasi</td>\n",
              "      <td>Uttar Pradesh</td>\n",
              "    </tr>\n",
              "    <tr>\n",
              "      <th>10</th>\n",
              "      <td>26.</td>\n",
              "      <td></td>\n",
              "      <td>Tezpur University, Tezpur</td>\n",
              "      <td>Assam</td>\n",
              "    </tr>\n",
              "    <tr>\n",
              "      <th>11</th>\n",
              "      <td>27.</td>\n",
              "      <td>State</td>\n",
              "      <td>MS University of Baroda, Vadodara</td>\n",
              "      <td>Gujarat</td>\n",
              "    </tr>\n",
              "    <tr>\n",
              "      <th>12</th>\n",
              "      <td>28.</td>\n",
              "      <td>University</td>\n",
              "      <td>University of Kashmir, Srinagar</td>\n",
              "      <td>Jammu &amp;</td>\n",
              "    </tr>\n",
              "    <tr>\n",
              "      <th>13</th>\n",
              "      <td></td>\n",
              "      <td></td>\n",
              "      <td></td>\n",
              "      <td>Kashmir</td>\n",
              "    </tr>\n",
              "    <tr>\n",
              "      <th>14</th>\n",
              "      <td>29.</td>\n",
              "      <td>Deemed</td>\n",
              "      <td>Birla Institute of Technology and</td>\n",
              "      <td>Rajasthan</td>\n",
              "    </tr>\n",
              "    <tr>\n",
              "      <th>15</th>\n",
              "      <td></td>\n",
              "      <td>Universities</td>\n",
              "      <td>Sciences, Pilani</td>\n",
              "      <td></td>\n",
              "    </tr>\n",
              "    <tr>\n",
              "      <th>16</th>\n",
              "      <td>30.</td>\n",
              "      <td>Private</td>\n",
              "      <td>Chandigarh University, Mohali</td>\n",
              "      <td>Punjab</td>\n",
              "    </tr>\n",
              "    <tr>\n",
              "      <th>17</th>\n",
              "      <td></td>\n",
              "      <td>University</td>\n",
              "      <td></td>\n",
              "      <td></td>\n",
              "    </tr>\n",
              "  </tbody>\n",
              "</table>\n",
              "</div>"
            ],
            "text/plain": [
              "      0  ...               3\n",
              "0   19.  ...         Haryana\n",
              "1        ...                \n",
              "2   20.  ...   Uttar Pradesh\n",
              "3        ...                \n",
              "4   21.  ...  Madhya Pradesh\n",
              "5        ...                \n",
              "6   22.  ...       Karnataka\n",
              "7   23.  ...           Delhi\n",
              "8   24.  ...           Delhi\n",
              "9   25.  ...   Uttar Pradesh\n",
              "10  26.  ...           Assam\n",
              "11  27.  ...         Gujarat\n",
              "12  28.  ...         Jammu &\n",
              "13       ...         Kashmir\n",
              "14  29.  ...       Rajasthan\n",
              "15       ...                \n",
              "16  30.  ...          Punjab\n",
              "17       ...                \n",
              "\n",
              "[18 rows x 4 columns]"
            ]
          },
          "metadata": {},
          "execution_count": 22
        }
      ]
    },
    {
      "cell_type": "code",
      "metadata": {
        "id": "MSjLBqX7LWhX"
      },
      "source": [
        "table[0].df.to_excel(\"camelot1_demo.xls\")"
      ],
      "execution_count": 23,
      "outputs": []
    },
    {
      "cell_type": "code",
      "metadata": {
        "id": "PJ9_NFbXM83J"
      },
      "source": [
        ""
      ],
      "execution_count": null,
      "outputs": []
    }
  ]
}